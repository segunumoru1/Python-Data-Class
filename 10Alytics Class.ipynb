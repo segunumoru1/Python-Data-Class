{
 "cells": [
  {
   "cell_type": "code",
   "execution_count": 1,
   "id": "c00cca09",
   "metadata": {},
   "outputs": [
    {
     "name": "stdout",
     "output_type": "stream",
     "text": [
      "hello world\n"
     ]
    }
   ],
   "source": [
    "print('hello world')"
   ]
  },
  {
   "cell_type": "code",
   "execution_count": 2,
   "id": "ddfe9bfa",
   "metadata": {},
   "outputs": [
    {
     "name": "stdout",
     "output_type": "stream",
     "text": [
      "16\n"
     ]
    }
   ],
   "source": [
    "#Basic Arithmetric\n",
    "print(25 - 9)"
   ]
  },
  {
   "cell_type": "code",
   "execution_count": 3,
   "id": "499039fc",
   "metadata": {},
   "outputs": [
    {
     "name": "stdout",
     "output_type": "stream",
     "text": [
      "79\n"
     ]
    }
   ],
   "source": [
    "print(23 + 56)"
   ]
  },
  {
   "cell_type": "code",
   "execution_count": 4,
   "id": "96962088",
   "metadata": {},
   "outputs": [
    {
     "name": "stdout",
     "output_type": "stream",
     "text": [
      "5.0\n"
     ]
    }
   ],
   "source": [
    "print(35 / 7)"
   ]
  },
  {
   "cell_type": "code",
   "execution_count": 5,
   "id": "db566d26",
   "metadata": {},
   "outputs": [
    {
     "name": "stdout",
     "output_type": "stream",
     "text": [
      "8\n"
     ]
    }
   ],
   "source": [
    "print(2**3)"
   ]
  },
  {
   "cell_type": "code",
   "execution_count": 6,
   "id": "771c6e8e",
   "metadata": {},
   "outputs": [
    {
     "name": "stdout",
     "output_type": "stream",
     "text": [
      "4.0\n"
     ]
    }
   ],
   "source": [
    "print(16**0.5)"
   ]
  },
  {
   "cell_type": "code",
   "execution_count": 9,
   "id": "5cbf1bb7",
   "metadata": {},
   "outputs": [
    {
     "name": "stdout",
     "output_type": "stream",
     "text": [
      "288\n"
     ]
    }
   ],
   "source": [
    "#exponential or indices\n",
    "print(16*(9*2))"
   ]
  },
  {
   "cell_type": "code",
   "execution_count": 10,
   "id": "45302df1",
   "metadata": {},
   "outputs": [
    {
     "name": "stdout",
     "output_type": "stream",
     "text": [
      "2\n"
     ]
    }
   ],
   "source": [
    "#floor number\n",
    "print(14 // 5)"
   ]
  },
  {
   "cell_type": "code",
   "execution_count": 11,
   "id": "99123630",
   "metadata": {},
   "outputs": [
    {
     "name": "stdout",
     "output_type": "stream",
     "text": [
      "4\n"
     ]
    }
   ],
   "source": [
    "#modulo\n",
    "print(14 % 5) "
   ]
  },
  {
   "cell_type": "code",
   "execution_count": null,
   "id": "563c89eb",
   "metadata": {},
   "outputs": [],
   "source": [
    "#variable assignment\n",
    "\n",
    "surname = 'Emmanuel'\n",
    "firstname = 'Damilola'\n",
    "age = 25\n",
    "account_balance = 2500\n",
    "tax_rate = 5/100\n",
    "tax_amount = account_balance * tax_rate\n",
    "married = False / True\n",
    "\n",
    "#name is the variable which is the container \n",
    "#that carries the data type while Damilola is a string.\n"
   ]
  },
  {
   "cell_type": "code",
   "execution_count": 50,
   "id": "193b1909",
   "metadata": {},
   "outputs": [
    {
     "name": "stdout",
     "output_type": "stream",
     "text": [
      "Segun Umoru\n",
      "25\n",
      "0.8\n",
      "125.0\n",
      "Yes\n"
     ]
    }
   ],
   "source": [
    "print(firstname + ' ' + surname)\n",
    "print(age)\n",
    "print(tax_rate)\n",
    "print(tax_amount)\n",
    "print(married)"
   ]
  },
  {
   "cell_type": "code",
   "execution_count": 39,
   "id": "f000bf19",
   "metadata": {},
   "outputs": [
    {
     "data": {
      "text/plain": [
       "'- -- -- -- -- -- -- -- -- -- -'"
      ]
     },
     "execution_count": 39,
     "metadata": {},
     "output_type": "execute_result"
    }
   ],
   "source": [
    "'- -' * 10"
   ]
  },
  {
   "cell_type": "code",
   "execution_count": 51,
   "id": "6f92c159",
   "metadata": {},
   "outputs": [
    {
     "name": "stdout",
     "output_type": "stream",
     "text": [
      "Please enter your surname: Umoru\n",
      "please enter your firstname: segun\n",
      "How old are you: 78\n",
      "How much is in your account balance: 89000\n",
      "what is the tax rate in your country: 0.02\n",
      "Are you married: False\n"
     ]
    }
   ],
   "source": [
    "\n",
    "surname = input( 'Please enter your surname: ')\n",
    "firstname = input( 'please enter your firstname: ')\n",
    "age = int(input( 'How old are you: '))\n",
    "account_balance = input( 'How much is in your account balance: ')\n",
    "tax_rate = input( 'what is the tax rate in your country: ')\n",
    "married = input( 'Are you married: ')"
   ]
  },
  {
   "cell_type": "code",
   "execution_count": 52,
   "id": "9c660754",
   "metadata": {},
   "outputs": [
    {
     "name": "stdout",
     "output_type": "stream",
     "text": [
      "first name:  segun \n",
      "lastname:  Umoru \n",
      "age:  25 \n",
      "balance:  89000\n"
     ]
    }
   ],
   "source": [
    "print('first name: ', firstname, '\\n'\n",
    "     'lastname: ', surname, '\\n'\n",
    "     'age: ', 25, '\\n'\n",
    "     'balance: ', account_balance)"
   ]
  },
  {
   "cell_type": "code",
   "execution_count": 53,
   "id": "569d986c",
   "metadata": {},
   "outputs": [
    {
     "data": {
      "text/plain": [
       "('segun', 'Umoru', 78)"
      ]
     },
     "execution_count": 53,
     "metadata": {},
     "output_type": "execute_result"
    }
   ],
   "source": [
    "(firstname, surname, age)"
   ]
  },
  {
   "cell_type": "code",
   "execution_count": 54,
   "id": "92eeaa12",
   "metadata": {},
   "outputs": [],
   "source": [
    "#funtion: it is a block of codes that designed to perfor a \n",
    "#specific task\n",
    "#head, body and ouput"
   ]
  },
  {
   "cell_type": "code",
   "execution_count": 56,
   "id": "ae048432",
   "metadata": {},
   "outputs": [
    {
     "name": "stdout",
     "output_type": "stream",
     "text": [
      "Please enter your surname: Arinze\n",
      "please enter your firstname: Emmanuel\n",
      "How old are you: 45\n",
      "how much is your salary: 34668.345\n",
      "How much is in your account balance: 56700\n",
      "what is the tax rate in your country: 0.076\n",
      "Are you married: True\n"
     ]
    }
   ],
   "source": [
    "surname = input( 'Please enter your surname: ')\n",
    "firstname = input( 'please enter your firstname: ')\n",
    "age = int(input( 'How old are you: '))\n",
    "Salary = float(input('how much is your salary: '))\n",
    "account_balance = input( 'How much is in your account balance: ')\n",
    "tax_rate = float(input( 'what is the tax rate in your country: '))\n",
    "married = input( 'Are you married: ')"
   ]
  },
  {
   "cell_type": "code",
   "execution_count": 88,
   "id": "2b9fc432",
   "metadata": {
    "scrolled": true
   },
   "outputs": [],
   "source": [
    "def salary_tax_calculator():\n",
    "    #surname = input( 'Please enter your surname: ')\n",
    "    #age = int(input( 'How old are you: '))\n",
    "    \n",
    "    firstname = input('please enter your firstname: ')\n",
    "    salary = float(input('how much is your salary: '))\n",
    "    tax_rate = float(input( 'what is the tax rate in your country: '))\n",
    "\n",
    "    #Salary and tax calculator\n",
    "\n",
    "    tax_amount = salary * tax_rate\n",
    "    \n",
    "    gross_salary = salary\n",
    "    \n",
    "    net_salary = salary - tax_amount\n",
    "\n",
    "    return print(f'\\n\\nMy Name is {firstname}\\nMy gross salary is {gross_salary} and my take home is {net_salary}')\n",
    "\n"
   ]
  },
  {
   "cell_type": "code",
   "execution_count": 89,
   "id": "2f346264",
   "metadata": {},
   "outputs": [
    {
     "name": "stdout",
     "output_type": "stream",
     "text": [
      "please enter your firstname: Blessing\n",
      "how much is your salary: 230000\n",
      "what is the tax rate in your country: 0.06\n",
      "\n",
      "\n",
      "My Name is Blessing\n",
      "My gross salary is 230000.0 and my take home is 216200.0\n"
     ]
    }
   ],
   "source": [
    "salary_tax_calculator()"
   ]
  },
  {
   "cell_type": "code",
   "execution_count": 92,
   "id": "be9c07e2",
   "metadata": {},
   "outputs": [],
   "source": [
    "def salary_tax_calculator(firstname = 'Jesutofunmi', salary = 350000, tax_rate = 0.03 ):                                          #HEAD\n",
    "\n",
    "    firstname = firstname              \n",
    "    salary = salary\n",
    "    tax_rate = tax_rate\n",
    "\n",
    "    tax_amount = salary * tax_rate\n",
    "    net_salary = salary - tax_amount\n",
    "\n",
    "\n",
    "    return firstname, salary, net_salary"
   ]
  },
  {
   "cell_type": "code",
   "execution_count": 93,
   "id": "047e705c",
   "metadata": {},
   "outputs": [
    {
     "data": {
      "text/plain": [
       "('Jesutofunmi', 350000, 339500.0)"
      ]
     },
     "execution_count": 93,
     "metadata": {},
     "output_type": "execute_result"
    }
   ],
   "source": [
    "salary_tax_calculator()"
   ]
  },
  {
   "cell_type": "code",
   "execution_count": 95,
   "id": "0f9e52ea",
   "metadata": {},
   "outputs": [],
   "source": [
    "#Say you are helping a friend to calculate their weekly paycheck after taxes.\n",
    "\n",
    "#They're in a 8% tax bracket (in other words, 8% of their salary is taken for taxes, and they only take home 88%), and\n",
    "\n",
    "#They're paid monthly, at a rate of $27,500/month.\n",
    "\n",
    "#Create a calculator to be used for 2 - 6 months period"
   ]
  },
  {
   "cell_type": "code",
   "execution_count": 99,
   "id": "7687ea35",
   "metadata": {},
   "outputs": [],
   "source": [
    "def weekly_paycheck_calculator():\n",
    "    firstname = input( ' What is your first name: ')\n",
    "    salary = int(input( 'What is your salary: '))\n",
    "    tax_rate = float(input( ' What is the policy of your country tax rate: '))\n",
    "    \n",
    "    tax_amount = salary * tax_rate\n",
    "    \n",
    "    take_home_salary = salary - tax_amount\n",
    "    \n",
    "    return firstname, salary, take_home_salary"
   ]
  },
  {
   "cell_type": "code",
   "execution_count": 100,
   "id": "67856307",
   "metadata": {},
   "outputs": [
    {
     "name": "stdout",
     "output_type": "stream",
     "text": [
      " What is your first name: Nola\n",
      "What is your salary: 27500\n",
      " What is the policy of your country tax rate: 0.08\n"
     ]
    },
    {
     "data": {
      "text/plain": [
       "('Nola', 27500, 25300.0)"
      ]
     },
     "execution_count": 100,
     "metadata": {},
     "output_type": "execute_result"
    }
   ],
   "source": [
    "weekly_paycheck_calculator()"
   ]
  },
  {
   "cell_type": "code",
   "execution_count": 3,
   "id": "dc2d33dc",
   "metadata": {},
   "outputs": [],
   "source": [
    "def summation():\n",
    "    \n",
    "    val1 = 6\n",
    "    val2 = 8\n",
    "    \n",
    "    total_val = val1 + val2\n",
    "    \n",
    "    return total_val"
   ]
  },
  {
   "cell_type": "code",
   "execution_count": 4,
   "id": "8c5a3591",
   "metadata": {},
   "outputs": [
    {
     "data": {
      "text/plain": [
       "14"
      ]
     },
     "execution_count": 4,
     "metadata": {},
     "output_type": "execute_result"
    }
   ],
   "source": [
    "summation()"
   ]
  },
  {
   "cell_type": "code",
   "execution_count": 6,
   "id": "5c508589",
   "metadata": {},
   "outputs": [],
   "source": [
    "def summation(val1:int ,val2:int):\n",
    "    \n",
    "    total_val = val1 + val2\n",
    "    \n",
    "    return total_val"
   ]
  },
  {
   "cell_type": "code",
   "execution_count": 8,
   "id": "fbb1aae8",
   "metadata": {},
   "outputs": [
    {
     "data": {
      "text/plain": [
       "157"
      ]
     },
     "execution_count": 8,
     "metadata": {},
     "output_type": "execute_result"
    }
   ],
   "source": [
    "summation(68,89)"
   ]
  },
  {
   "cell_type": "code",
   "execution_count": 9,
   "id": "9ea2dca9",
   "metadata": {},
   "outputs": [],
   "source": [
    "#Integer\n",
    "\n",
    "no_of_child = 4"
   ]
  },
  {
   "cell_type": "code",
   "execution_count": 10,
   "id": "b5ca19d2",
   "metadata": {},
   "outputs": [
    {
     "data": {
      "text/plain": [
       "int"
      ]
     },
     "execution_count": 10,
     "metadata": {},
     "output_type": "execute_result"
    }
   ],
   "source": [
    "type(no_of_child)"
   ]
  },
  {
   "cell_type": "code",
   "execution_count": 11,
   "id": "b39dec72",
   "metadata": {},
   "outputs": [
    {
     "data": {
      "text/plain": [
       "['__abs__',\n",
       " '__add__',\n",
       " '__and__',\n",
       " '__bool__',\n",
       " '__ceil__',\n",
       " '__class__',\n",
       " '__delattr__',\n",
       " '__dir__',\n",
       " '__divmod__',\n",
       " '__doc__',\n",
       " '__eq__',\n",
       " '__float__',\n",
       " '__floor__',\n",
       " '__floordiv__',\n",
       " '__format__',\n",
       " '__ge__',\n",
       " '__getattribute__',\n",
       " '__getnewargs__',\n",
       " '__gt__',\n",
       " '__hash__',\n",
       " '__index__',\n",
       " '__init__',\n",
       " '__init_subclass__',\n",
       " '__int__',\n",
       " '__invert__',\n",
       " '__le__',\n",
       " '__lshift__',\n",
       " '__lt__',\n",
       " '__mod__',\n",
       " '__mul__',\n",
       " '__ne__',\n",
       " '__neg__',\n",
       " '__new__',\n",
       " '__or__',\n",
       " '__pos__',\n",
       " '__pow__',\n",
       " '__radd__',\n",
       " '__rand__',\n",
       " '__rdivmod__',\n",
       " '__reduce__',\n",
       " '__reduce_ex__',\n",
       " '__repr__',\n",
       " '__rfloordiv__',\n",
       " '__rlshift__',\n",
       " '__rmod__',\n",
       " '__rmul__',\n",
       " '__ror__',\n",
       " '__round__',\n",
       " '__rpow__',\n",
       " '__rrshift__',\n",
       " '__rshift__',\n",
       " '__rsub__',\n",
       " '__rtruediv__',\n",
       " '__rxor__',\n",
       " '__setattr__',\n",
       " '__sizeof__',\n",
       " '__str__',\n",
       " '__sub__',\n",
       " '__subclasshook__',\n",
       " '__truediv__',\n",
       " '__trunc__',\n",
       " '__xor__',\n",
       " 'as_integer_ratio',\n",
       " 'bit_length',\n",
       " 'conjugate',\n",
       " 'denominator',\n",
       " 'from_bytes',\n",
       " 'imag',\n",
       " 'numerator',\n",
       " 'real',\n",
       " 'to_bytes']"
      ]
     },
     "execution_count": 11,
     "metadata": {},
     "output_type": "execute_result"
    }
   ],
   "source": [
    "dir(no_of_child)"
   ]
  },
  {
   "cell_type": "code",
   "execution_count": 12,
   "id": "1066c631",
   "metadata": {},
   "outputs": [
    {
     "name": "stdout",
     "output_type": "stream",
     "text": [
      "Help on int object:\n",
      "\n",
      "class int(object)\n",
      " |  int([x]) -> integer\n",
      " |  int(x, base=10) -> integer\n",
      " |  \n",
      " |  Convert a number or string to an integer, or return 0 if no arguments\n",
      " |  are given.  If x is a number, return x.__int__().  For floating point\n",
      " |  numbers, this truncates towards zero.\n",
      " |  \n",
      " |  If x is not a number or if base is given, then x must be a string,\n",
      " |  bytes, or bytearray instance representing an integer literal in the\n",
      " |  given base.  The literal can be preceded by '+' or '-' and be surrounded\n",
      " |  by whitespace.  The base defaults to 10.  Valid bases are 0 and 2-36.\n",
      " |  Base 0 means to interpret the base from the string as an integer literal.\n",
      " |  >>> int('0b100', base=0)\n",
      " |  4\n",
      " |  \n",
      " |  Built-in subclasses:\n",
      " |      bool\n",
      " |  \n",
      " |  Methods defined here:\n",
      " |  \n",
      " |  __abs__(self, /)\n",
      " |      abs(self)\n",
      " |  \n",
      " |  __add__(self, value, /)\n",
      " |      Return self+value.\n",
      " |  \n",
      " |  __and__(self, value, /)\n",
      " |      Return self&value.\n",
      " |  \n",
      " |  __bool__(self, /)\n",
      " |      True if self else False\n",
      " |  \n",
      " |  __ceil__(...)\n",
      " |      Ceiling of an Integral returns itself.\n",
      " |  \n",
      " |  __divmod__(self, value, /)\n",
      " |      Return divmod(self, value).\n",
      " |  \n",
      " |  __eq__(self, value, /)\n",
      " |      Return self==value.\n",
      " |  \n",
      " |  __float__(self, /)\n",
      " |      float(self)\n",
      " |  \n",
      " |  __floor__(...)\n",
      " |      Flooring an Integral returns itself.\n",
      " |  \n",
      " |  __floordiv__(self, value, /)\n",
      " |      Return self//value.\n",
      " |  \n",
      " |  __format__(self, format_spec, /)\n",
      " |      Default object formatter.\n",
      " |  \n",
      " |  __ge__(self, value, /)\n",
      " |      Return self>=value.\n",
      " |  \n",
      " |  __getattribute__(self, name, /)\n",
      " |      Return getattr(self, name).\n",
      " |  \n",
      " |  __getnewargs__(self, /)\n",
      " |  \n",
      " |  __gt__(self, value, /)\n",
      " |      Return self>value.\n",
      " |  \n",
      " |  __hash__(self, /)\n",
      " |      Return hash(self).\n",
      " |  \n",
      " |  __index__(self, /)\n",
      " |      Return self converted to an integer, if self is suitable for use as an index into a list.\n",
      " |  \n",
      " |  __int__(self, /)\n",
      " |      int(self)\n",
      " |  \n",
      " |  __invert__(self, /)\n",
      " |      ~self\n",
      " |  \n",
      " |  __le__(self, value, /)\n",
      " |      Return self<=value.\n",
      " |  \n",
      " |  __lshift__(self, value, /)\n",
      " |      Return self<<value.\n",
      " |  \n",
      " |  __lt__(self, value, /)\n",
      " |      Return self<value.\n",
      " |  \n",
      " |  __mod__(self, value, /)\n",
      " |      Return self%value.\n",
      " |  \n",
      " |  __mul__(self, value, /)\n",
      " |      Return self*value.\n",
      " |  \n",
      " |  __ne__(self, value, /)\n",
      " |      Return self!=value.\n",
      " |  \n",
      " |  __neg__(self, /)\n",
      " |      -self\n",
      " |  \n",
      " |  __or__(self, value, /)\n",
      " |      Return self|value.\n",
      " |  \n",
      " |  __pos__(self, /)\n",
      " |      +self\n",
      " |  \n",
      " |  __pow__(self, value, mod=None, /)\n",
      " |      Return pow(self, value, mod).\n",
      " |  \n",
      " |  __radd__(self, value, /)\n",
      " |      Return value+self.\n",
      " |  \n",
      " |  __rand__(self, value, /)\n",
      " |      Return value&self.\n",
      " |  \n",
      " |  __rdivmod__(self, value, /)\n",
      " |      Return divmod(value, self).\n",
      " |  \n",
      " |  __repr__(self, /)\n",
      " |      Return repr(self).\n",
      " |  \n",
      " |  __rfloordiv__(self, value, /)\n",
      " |      Return value//self.\n",
      " |  \n",
      " |  __rlshift__(self, value, /)\n",
      " |      Return value<<self.\n",
      " |  \n",
      " |  __rmod__(self, value, /)\n",
      " |      Return value%self.\n",
      " |  \n",
      " |  __rmul__(self, value, /)\n",
      " |      Return value*self.\n",
      " |  \n",
      " |  __ror__(self, value, /)\n",
      " |      Return value|self.\n",
      " |  \n",
      " |  __round__(...)\n",
      " |      Rounding an Integral returns itself.\n",
      " |      Rounding with an ndigits argument also returns an integer.\n",
      " |  \n",
      " |  __rpow__(self, value, mod=None, /)\n",
      " |      Return pow(value, self, mod).\n",
      " |  \n",
      " |  __rrshift__(self, value, /)\n",
      " |      Return value>>self.\n",
      " |  \n",
      " |  __rshift__(self, value, /)\n",
      " |      Return self>>value.\n",
      " |  \n",
      " |  __rsub__(self, value, /)\n",
      " |      Return value-self.\n",
      " |  \n",
      " |  __rtruediv__(self, value, /)\n",
      " |      Return value/self.\n",
      " |  \n",
      " |  __rxor__(self, value, /)\n",
      " |      Return value^self.\n",
      " |  \n",
      " |  __sizeof__(self, /)\n",
      " |      Returns size in memory, in bytes.\n",
      " |  \n",
      " |  __sub__(self, value, /)\n",
      " |      Return self-value.\n",
      " |  \n",
      " |  __truediv__(self, value, /)\n",
      " |      Return self/value.\n",
      " |  \n",
      " |  __trunc__(...)\n",
      " |      Truncating an Integral returns itself.\n",
      " |  \n",
      " |  __xor__(self, value, /)\n",
      " |      Return self^value.\n",
      " |  \n",
      " |  as_integer_ratio(self, /)\n",
      " |      Return integer ratio.\n",
      " |      \n",
      " |      Return a pair of integers, whose ratio is exactly equal to the original int\n",
      " |      and with a positive denominator.\n",
      " |      \n",
      " |      >>> (10).as_integer_ratio()\n",
      " |      (10, 1)\n",
      " |      >>> (-10).as_integer_ratio()\n",
      " |      (-10, 1)\n",
      " |      >>> (0).as_integer_ratio()\n",
      " |      (0, 1)\n",
      " |  \n",
      " |  bit_length(self, /)\n",
      " |      Number of bits necessary to represent self in binary.\n",
      " |      \n",
      " |      >>> bin(37)\n",
      " |      '0b100101'\n",
      " |      >>> (37).bit_length()\n",
      " |      6\n",
      " |  \n",
      " |  conjugate(...)\n",
      " |      Returns self, the complex conjugate of any int.\n",
      " |  \n",
      " |  to_bytes(self, /, length, byteorder, *, signed=False)\n",
      " |      Return an array of bytes representing an integer.\n",
      " |      \n",
      " |      length\n",
      " |        Length of bytes object to use.  An OverflowError is raised if the\n",
      " |        integer is not representable with the given number of bytes.\n",
      " |      byteorder\n",
      " |        The byte order used to represent the integer.  If byteorder is 'big',\n",
      " |        the most significant byte is at the beginning of the byte array.  If\n",
      " |        byteorder is 'little', the most significant byte is at the end of the\n",
      " |        byte array.  To request the native byte order of the host system, use\n",
      " |        `sys.byteorder' as the byte order value.\n",
      " |      signed\n",
      " |        Determines whether two's complement is used to represent the integer.\n",
      " |        If signed is False and a negative integer is given, an OverflowError\n",
      " |        is raised.\n",
      " |  \n",
      " |  ----------------------------------------------------------------------\n",
      " |  Class methods defined here:\n",
      " |  \n",
      " |  from_bytes(bytes, byteorder, *, signed=False) from builtins.type\n",
      " |      Return the integer represented by the given array of bytes.\n",
      " |      \n",
      " |      bytes\n",
      " |        Holds the array of bytes to convert.  The argument must either\n",
      " |        support the buffer protocol or be an iterable object producing bytes.\n",
      " |        Bytes and bytearray are examples of built-in objects that support the\n",
      " |        buffer protocol.\n",
      " |      byteorder\n",
      " |        The byte order used to represent the integer.  If byteorder is 'big',\n",
      " |        the most significant byte is at the beginning of the byte array.  If\n",
      " |        byteorder is 'little', the most significant byte is at the end of the\n",
      " |        byte array.  To request the native byte order of the host system, use\n",
      " |        `sys.byteorder' as the byte order value.\n",
      " |      signed\n",
      " |        Indicates whether two's complement is used to represent the integer.\n",
      " |  \n",
      " |  ----------------------------------------------------------------------\n",
      " |  Static methods defined here:\n",
      " |  \n",
      " |  __new__(*args, **kwargs) from builtins.type\n",
      " |      Create and return a new object.  See help(type) for accurate signature.\n",
      " |  \n",
      " |  ----------------------------------------------------------------------\n",
      " |  Data descriptors defined here:\n",
      " |  \n",
      " |  denominator\n",
      " |      the denominator of a rational number in lowest terms\n",
      " |  \n",
      " |  imag\n",
      " |      the imaginary part of a complex number\n",
      " |  \n",
      " |  numerator\n",
      " |      the numerator of a rational number in lowest terms\n",
      " |  \n",
      " |  real\n",
      " |      the real part of a complex number\n",
      "\n"
     ]
    }
   ],
   "source": [
    "help(no_of_child)"
   ]
  },
  {
   "cell_type": "code",
   "execution_count": 13,
   "id": "f0afe976",
   "metadata": {},
   "outputs": [
    {
     "ename": "NameError",
     "evalue": "name 'salary_tax_calculator' is not defined",
     "output_type": "error",
     "traceback": [
      "\u001b[1;31m---------------------------------------------------------------------------\u001b[0m",
      "\u001b[1;31mNameError\u001b[0m                                 Traceback (most recent call last)",
      "Input \u001b[1;32mIn [13]\u001b[0m, in \u001b[0;36m<cell line: 1>\u001b[1;34m()\u001b[0m\n\u001b[1;32m----> 1\u001b[0m \u001b[43msalary_tax_calculator\u001b[49m(\u001b[38;5;167;01mSyntaxError\u001b[39;00m)\n",
      "\u001b[1;31mNameError\u001b[0m: name 'salary_tax_calculator' is not defined"
     ]
    }
   ],
   "source": [
    "salary_tax_calculator(SyntaxError)"
   ]
  },
  {
   "cell_type": "code",
   "execution_count": 15,
   "id": "cfa0a623",
   "metadata": {},
   "outputs": [
    {
     "data": {
      "text/plain": [
       "8"
      ]
     },
     "execution_count": 15,
     "metadata": {},
     "output_type": "execute_result"
    }
   ],
   "source": [
    "abs(-8)"
   ]
  },
  {
   "cell_type": "code",
   "execution_count": 16,
   "id": "9b06dc0b",
   "metadata": {},
   "outputs": [
    {
     "data": {
      "text/plain": [
       "2.56"
      ]
     },
     "execution_count": 16,
     "metadata": {},
     "output_type": "execute_result"
    }
   ],
   "source": [
    "float(2.56)"
   ]
  },
  {
   "cell_type": "code",
   "execution_count": 17,
   "id": "4d65498e",
   "metadata": {},
   "outputs": [
    {
     "data": {
      "text/plain": [
       "4.0"
      ]
     },
     "execution_count": 17,
     "metadata": {},
     "output_type": "execute_result"
    }
   ],
   "source": [
    "float(no_of_child)"
   ]
  },
  {
   "cell_type": "code",
   "execution_count": 18,
   "id": "62ab3001",
   "metadata": {},
   "outputs": [
    {
     "data": {
      "text/plain": [
       "4"
      ]
     },
     "execution_count": 18,
     "metadata": {},
     "output_type": "execute_result"
    }
   ],
   "source": [
    "int(4.6)"
   ]
  },
  {
   "cell_type": "code",
   "execution_count": 19,
   "id": "ea40364c",
   "metadata": {},
   "outputs": [
    {
     "data": {
      "text/plain": [
       "45.68"
      ]
     },
     "execution_count": 19,
     "metadata": {},
     "output_type": "execute_result"
    }
   ],
   "source": [
    "round(45.67649, 2)"
   ]
  },
  {
   "cell_type": "code",
   "execution_count": 20,
   "id": "412ff043",
   "metadata": {},
   "outputs": [
    {
     "data": {
      "text/plain": [
       "46.0"
      ]
     },
     "execution_count": 20,
     "metadata": {},
     "output_type": "execute_result"
    }
   ],
   "source": [
    "round(45.67649, 0)"
   ]
  },
  {
   "cell_type": "code",
   "execution_count": 21,
   "id": "d55e09db",
   "metadata": {},
   "outputs": [],
   "source": [
    "weight = 54.6749"
   ]
  },
  {
   "cell_type": "code",
   "execution_count": 22,
   "id": "ef5079e7",
   "metadata": {},
   "outputs": [
    {
     "data": {
      "text/plain": [
       "54.7"
      ]
     },
     "execution_count": 22,
     "metadata": {},
     "output_type": "execute_result"
    }
   ],
   "source": [
    "round(weight,1)"
   ]
  },
  {
   "cell_type": "code",
   "execution_count": 23,
   "id": "ca4873c8",
   "metadata": {},
   "outputs": [
    {
     "data": {
      "text/plain": [
       "[]"
      ]
     },
     "execution_count": 23,
     "metadata": {},
     "output_type": "execute_result"
    }
   ],
   "source": [
    "list()"
   ]
  },
  {
   "cell_type": "code",
   "execution_count": 25,
   "id": "336c692e",
   "metadata": {},
   "outputs": [],
   "source": [
    "class_list = []"
   ]
  },
  {
   "cell_type": "code",
   "execution_count": 35,
   "id": "6f368bdf",
   "metadata": {},
   "outputs": [],
   "source": [
    "class_list_2 = [2, 4, 7, 1, 10, 'Damilola', 2, 3, True]"
   ]
  },
  {
   "cell_type": "code",
   "execution_count": 41,
   "id": "c9fcdcf9",
   "metadata": {},
   "outputs": [
    {
     "data": {
      "text/plain": [
       "[2, 4, 7, 1, 10, 'Damilola', 2, 3, True, 8, 8]"
      ]
     },
     "execution_count": 41,
     "metadata": {},
     "output_type": "execute_result"
    }
   ],
   "source": [
    "class_list_2"
   ]
  },
  {
   "cell_type": "code",
   "execution_count": 42,
   "id": "b32c9113",
   "metadata": {},
   "outputs": [
    {
     "data": {
      "text/plain": [
       "list"
      ]
     },
     "execution_count": 42,
     "metadata": {},
     "output_type": "execute_result"
    }
   ],
   "source": [
    "type(class_list)"
   ]
  },
  {
   "cell_type": "code",
   "execution_count": 52,
   "id": "a822940a",
   "metadata": {},
   "outputs": [],
   "source": [
    "class_list.append(4)"
   ]
  },
  {
   "cell_type": "code",
   "execution_count": 64,
   "id": "7f843ca9",
   "metadata": {},
   "outputs": [],
   "source": [
    "class_list.append(class_list_2)"
   ]
  },
  {
   "cell_type": "code",
   "execution_count": 65,
   "id": "8c8360a1",
   "metadata": {},
   "outputs": [
    {
     "data": {
      "text/plain": [
       "[2,\n",
       " 2,\n",
       " 8,\n",
       " 2,\n",
       " 4,\n",
       " [2,\n",
       "  4,\n",
       "  7,\n",
       "  1,\n",
       "  10,\n",
       "  'Damilola',\n",
       "  2,\n",
       "  3,\n",
       "  True,\n",
       "  8,\n",
       "  8,\n",
       "  2,\n",
       "  2,\n",
       "  8,\n",
       "  2,\n",
       "  4,\n",
       "  [...],\n",
       "  [...],\n",
       "  [...],\n",
       "  4,\n",
       "  [...],\n",
       "  2,\n",
       "  4,\n",
       "  7,\n",
       "  1,\n",
       "  10,\n",
       "  'Damilola',\n",
       "  2,\n",
       "  3,\n",
       "  True,\n",
       "  8,\n",
       "  8],\n",
       " [2,\n",
       "  4,\n",
       "  7,\n",
       "  1,\n",
       "  10,\n",
       "  'Damilola',\n",
       "  2,\n",
       "  3,\n",
       "  True,\n",
       "  8,\n",
       "  8,\n",
       "  2,\n",
       "  2,\n",
       "  8,\n",
       "  2,\n",
       "  4,\n",
       "  [...],\n",
       "  [...],\n",
       "  [...],\n",
       "  4,\n",
       "  [...],\n",
       "  2,\n",
       "  4,\n",
       "  7,\n",
       "  1,\n",
       "  10,\n",
       "  'Damilola',\n",
       "  2,\n",
       "  3,\n",
       "  True,\n",
       "  8,\n",
       "  8],\n",
       " [2,\n",
       "  4,\n",
       "  7,\n",
       "  1,\n",
       "  10,\n",
       "  'Damilola',\n",
       "  2,\n",
       "  3,\n",
       "  True,\n",
       "  8,\n",
       "  8,\n",
       "  2,\n",
       "  2,\n",
       "  8,\n",
       "  2,\n",
       "  4,\n",
       "  [...],\n",
       "  [...],\n",
       "  [...],\n",
       "  4,\n",
       "  [...],\n",
       "  2,\n",
       "  4,\n",
       "  7,\n",
       "  1,\n",
       "  10,\n",
       "  'Damilola',\n",
       "  2,\n",
       "  3,\n",
       "  True,\n",
       "  8,\n",
       "  8],\n",
       " 4,\n",
       " [2,\n",
       "  4,\n",
       "  7,\n",
       "  1,\n",
       "  10,\n",
       "  'Damilola',\n",
       "  2,\n",
       "  3,\n",
       "  True,\n",
       "  8,\n",
       "  8,\n",
       "  2,\n",
       "  2,\n",
       "  8,\n",
       "  2,\n",
       "  4,\n",
       "  [...],\n",
       "  [...],\n",
       "  [...],\n",
       "  4,\n",
       "  [...],\n",
       "  2,\n",
       "  4,\n",
       "  7,\n",
       "  1,\n",
       "  10,\n",
       "  'Damilola',\n",
       "  2,\n",
       "  3,\n",
       "  True,\n",
       "  8,\n",
       "  8],\n",
       " 2,\n",
       " 4,\n",
       " 7,\n",
       " 1,\n",
       " 10,\n",
       " 'Damilola',\n",
       " 2,\n",
       " 3,\n",
       " True,\n",
       " 8,\n",
       " 8,\n",
       " [2,\n",
       "  4,\n",
       "  7,\n",
       "  1,\n",
       "  10,\n",
       "  'Damilola',\n",
       "  2,\n",
       "  3,\n",
       "  True,\n",
       "  8,\n",
       "  8,\n",
       "  2,\n",
       "  2,\n",
       "  8,\n",
       "  2,\n",
       "  4,\n",
       "  [...],\n",
       "  [...],\n",
       "  [...],\n",
       "  4,\n",
       "  [...],\n",
       "  2,\n",
       "  4,\n",
       "  7,\n",
       "  1,\n",
       "  10,\n",
       "  'Damilola',\n",
       "  2,\n",
       "  3,\n",
       "  True,\n",
       "  8,\n",
       "  8]]"
      ]
     },
     "execution_count": 65,
     "metadata": {},
     "output_type": "execute_result"
    }
   ],
   "source": [
    "class_list"
   ]
  },
  {
   "cell_type": "code",
   "execution_count": 66,
   "id": "b9ffad11",
   "metadata": {},
   "outputs": [
    {
     "data": {
      "text/plain": [
       "[2,\n",
       " 4,\n",
       " 7,\n",
       " 1,\n",
       " 10,\n",
       " 'Damilola',\n",
       " 2,\n",
       " 3,\n",
       " True,\n",
       " 8,\n",
       " 8,\n",
       " 2,\n",
       " 2,\n",
       " 8,\n",
       " 2,\n",
       " 4,\n",
       " [...],\n",
       " [...],\n",
       " [...],\n",
       " 4,\n",
       " [...],\n",
       " 2,\n",
       " 4,\n",
       " 7,\n",
       " 1,\n",
       " 10,\n",
       " 'Damilola',\n",
       " 2,\n",
       " 3,\n",
       " True,\n",
       " 8,\n",
       " 8]"
      ]
     },
     "execution_count": 66,
     "metadata": {},
     "output_type": "execute_result"
    }
   ],
   "source": [
    "class_list.pop()"
   ]
  },
  {
   "cell_type": "code",
   "execution_count": 72,
   "id": "46bc5fa6",
   "metadata": {},
   "outputs": [],
   "source": [
    "class_list.reverse()"
   ]
  },
  {
   "cell_type": "code",
   "execution_count": 87,
   "id": "238f4d0c",
   "metadata": {
    "scrolled": false
   },
   "outputs": [
    {
     "data": {
      "text/plain": [
       "[8,\n",
       " 8,\n",
       " True,\n",
       " 3,\n",
       " 2,\n",
       " 'Damilola',\n",
       " 10,\n",
       " 1,\n",
       " 7,\n",
       " 4,\n",
       " 2,\n",
       " [2,\n",
       "  4,\n",
       "  7,\n",
       "  1,\n",
       "  10,\n",
       "  'Damilola',\n",
       "  2,\n",
       "  3,\n",
       "  True,\n",
       "  8,\n",
       "  8,\n",
       "  2,\n",
       "  2,\n",
       "  8,\n",
       "  2,\n",
       "  4,\n",
       "  [...],\n",
       "  [...],\n",
       "  [...],\n",
       "  4,\n",
       "  [...],\n",
       "  2,\n",
       "  4,\n",
       "  7,\n",
       "  1,\n",
       "  10,\n",
       "  'Damilola',\n",
       "  2,\n",
       "  3,\n",
       "  True,\n",
       "  8,\n",
       "  8],\n",
       " 4,\n",
       " [2,\n",
       "  4,\n",
       "  7,\n",
       "  1,\n",
       "  10,\n",
       "  'Damilola',\n",
       "  2,\n",
       "  3,\n",
       "  True,\n",
       "  8,\n",
       "  8,\n",
       "  2,\n",
       "  2,\n",
       "  8,\n",
       "  2,\n",
       "  4,\n",
       "  [...],\n",
       "  [...],\n",
       "  [...],\n",
       "  4,\n",
       "  [...],\n",
       "  2,\n",
       "  4,\n",
       "  7,\n",
       "  1,\n",
       "  10,\n",
       "  'Damilola',\n",
       "  2,\n",
       "  3,\n",
       "  True,\n",
       "  8,\n",
       "  8],\n",
       " [2,\n",
       "  4,\n",
       "  7,\n",
       "  1,\n",
       "  10,\n",
       "  'Damilola',\n",
       "  2,\n",
       "  3,\n",
       "  True,\n",
       "  8,\n",
       "  8,\n",
       "  2,\n",
       "  2,\n",
       "  8,\n",
       "  2,\n",
       "  4,\n",
       "  [...],\n",
       "  [...],\n",
       "  [...],\n",
       "  4,\n",
       "  [...],\n",
       "  2,\n",
       "  4,\n",
       "  7,\n",
       "  1,\n",
       "  10,\n",
       "  'Damilola',\n",
       "  2,\n",
       "  3,\n",
       "  True,\n",
       "  8,\n",
       "  8],\n",
       " [2,\n",
       "  4,\n",
       "  7,\n",
       "  1,\n",
       "  10,\n",
       "  'Damilola',\n",
       "  2,\n",
       "  3,\n",
       "  True,\n",
       "  8,\n",
       "  8,\n",
       "  2,\n",
       "  2,\n",
       "  8,\n",
       "  2,\n",
       "  4,\n",
       "  [...],\n",
       "  [...],\n",
       "  [...],\n",
       "  4,\n",
       "  [...],\n",
       "  2,\n",
       "  4,\n",
       "  7,\n",
       "  1,\n",
       "  10,\n",
       "  'Damilola',\n",
       "  2,\n",
       "  3,\n",
       "  True,\n",
       "  8,\n",
       "  8],\n",
       " 4,\n",
       " 2,\n",
       " 8,\n",
       " 2,\n",
       " 2]"
      ]
     },
     "execution_count": 87,
     "metadata": {},
     "output_type": "execute_result"
    }
   ],
   "source": [
    "class_list"
   ]
  },
  {
   "cell_type": "code",
   "execution_count": 74,
   "id": "09d6ff06",
   "metadata": {},
   "outputs": [],
   "source": [
    " #string"
   ]
  },
  {
   "cell_type": "code",
   "execution_count": 77,
   "id": "4b1cf21e",
   "metadata": {},
   "outputs": [],
   "source": [
    "Name = 'damilola'"
   ]
  },
  {
   "cell_type": "code",
   "execution_count": 78,
   "id": "359ace18",
   "metadata": {},
   "outputs": [
    {
     "data": {
      "text/plain": [
       "'Damilola'"
      ]
     },
     "execution_count": 78,
     "metadata": {},
     "output_type": "execute_result"
    }
   ],
   "source": [
    "Name.capitalize()"
   ]
  },
  {
   "cell_type": "code",
   "execution_count": 79,
   "id": "0f2515f3",
   "metadata": {},
   "outputs": [
    {
     "data": {
      "text/plain": [
       "'DAMILOLA'"
      ]
     },
     "execution_count": 79,
     "metadata": {},
     "output_type": "execute_result"
    }
   ],
   "source": [
    "Name.upper()"
   ]
  },
  {
   "cell_type": "code",
   "execution_count": 80,
   "id": "59e60bc0",
   "metadata": {},
   "outputs": [
    {
     "data": {
      "text/plain": [
       "'damilola'"
      ]
     },
     "execution_count": 80,
     "metadata": {},
     "output_type": "execute_result"
    }
   ],
   "source": [
    "Name.lower()"
   ]
  },
  {
   "cell_type": "code",
   "execution_count": 81,
   "id": "ce0da8a4",
   "metadata": {},
   "outputs": [],
   "source": [
    "comment = \"the sky is very blue\""
   ]
  },
  {
   "cell_type": "code",
   "execution_count": 83,
   "id": "065a0014",
   "metadata": {},
   "outputs": [
    {
     "data": {
      "text/plain": [
       "'THE SKY IS VERY BLUE'"
      ]
     },
     "execution_count": 83,
     "metadata": {},
     "output_type": "execute_result"
    }
   ],
   "source": [
    "comment.upper()"
   ]
  },
  {
   "cell_type": "code",
   "execution_count": 85,
   "id": "f5ce1869",
   "metadata": {},
   "outputs": [
    {
     "data": {
      "text/plain": [
       "['the', 'sky', 'is', 'very', 'blue']"
      ]
     },
     "execution_count": 85,
     "metadata": {},
     "output_type": "execute_result"
    }
   ],
   "source": [
    "comment.split(' ')"
   ]
  },
  {
   "cell_type": "code",
   "execution_count": 86,
   "id": "4ce15b54",
   "metadata": {},
   "outputs": [
    {
     "data": {
      "text/plain": [
       "['the ', 'ky i', ' very blue']"
      ]
     },
     "execution_count": 86,
     "metadata": {},
     "output_type": "execute_result"
    }
   ],
   "source": [
    "comment.split('s')"
   ]
  },
  {
   "cell_type": "code",
   "execution_count": 89,
   "id": "e1f2df89",
   "metadata": {},
   "outputs": [
    {
     "name": "stdout",
     "output_type": "stream",
     "text": [
      "the sky is very blue\n"
     ]
    }
   ],
   "source": [
    "#print formatting\n",
    "\n",
    "print(f\"the sky is very blue\")"
   ]
  },
  {
   "cell_type": "code",
   "execution_count": 108,
   "id": "73f12938",
   "metadata": {},
   "outputs": [
    {
     "name": "stdout",
     "output_type": "stream",
     "text": [
      "the sky is very blue and I love it, my Name is damilola\n"
     ]
    }
   ],
   "source": [
    "#example1\n",
    "print('the sky is very blue and I love it, my Name is {}'.format(Name))"
   ]
  },
  {
   "cell_type": "code",
   "execution_count": 110,
   "id": "6dcc1f61",
   "metadata": {},
   "outputs": [
    {
     "name": "stdout",
     "output_type": "stream",
     "text": [
      "the sky is very blue and I love it, my Name is damilola\n"
     ]
    }
   ],
   "source": [
    "#example2\n",
    "print(f\"the sky is very blue and I love it, my Name is {Name}\")"
   ]
  },
  {
   "cell_type": "code",
   "execution_count": 113,
   "id": "1a273829",
   "metadata": {},
   "outputs": [
    {
     "name": "stdout",
     "output_type": "stream",
     "text": [
      "my Name is Damilola and I am 20 years old\n"
     ]
    }
   ],
   "source": [
    "#Placeholder\n",
    "\n",
    "#%s\n",
    "\n",
    "Name = 'Damilola'\n",
    "age = 20\n",
    "\n",
    "print('my Name is %s and I am %s years old' %(Name, age))"
   ]
  },
  {
   "cell_type": "code",
   "execution_count": 114,
   "id": "c218c0d7",
   "metadata": {},
   "outputs": [],
   "source": [
    "test = comment.split(' ')"
   ]
  },
  {
   "cell_type": "code",
   "execution_count": 115,
   "id": "f892cb4b",
   "metadata": {},
   "outputs": [
    {
     "data": {
      "text/plain": [
       "['the', 'sky', 'is', 'very', 'blue']"
      ]
     },
     "execution_count": 115,
     "metadata": {},
     "output_type": "execute_result"
    }
   ],
   "source": [
    "test"
   ]
  },
  {
   "cell_type": "code",
   "execution_count": 118,
   "id": "4965cae5",
   "metadata": {},
   "outputs": [
    {
     "data": {
      "text/plain": [
       "'the--sky--is--very--blue'"
      ]
     },
     "execution_count": 118,
     "metadata": {},
     "output_type": "execute_result"
    }
   ],
   "source": [
    "'--'.join(test)"
   ]
  },
  {
   "cell_type": "code",
   "execution_count": 120,
   "id": "b386c0ee",
   "metadata": {},
   "outputs": [
    {
     "data": {
      "text/plain": [
       "'the sky is very blue'"
      ]
     },
     "execution_count": 120,
     "metadata": {},
     "output_type": "execute_result"
    }
   ],
   "source": [
    "' '.join(test)"
   ]
  },
  {
   "cell_type": "code",
   "execution_count": 122,
   "id": "31b8f93f",
   "metadata": {},
   "outputs": [
    {
     "ename": "SyntaxError",
     "evalue": "invalid syntax (1305901491.py, line 4)",
     "output_type": "error",
     "traceback": [
      "\u001b[1;36m  Input \u001b[1;32mIn [122]\u001b[1;36m\u001b[0m\n\u001b[1;33m    0   1  2  3  4  5  6  7\u001b[0m\n\u001b[1;37m        ^\u001b[0m\n\u001b[1;31mSyntaxError\u001b[0m\u001b[1;31m:\u001b[0m invalid syntax\n"
     ]
    }
   ],
   "source": [
    "#Indexing and Slicing\n",
    "\n",
    "[2, 3, 4, 5, 6, 7, 8, 9]\n",
    "0   1  2  3  4  5  6  7\n"
   ]
  },
  {
   "cell_type": "code",
   "execution_count": 123,
   "id": "48bdfc56",
   "metadata": {},
   "outputs": [],
   "source": [
    "test = comment.split(' ')"
   ]
  },
  {
   "cell_type": "code",
   "execution_count": 124,
   "id": "11a7bc22",
   "metadata": {},
   "outputs": [
    {
     "data": {
      "text/plain": [
       "'sky'"
      ]
     },
     "execution_count": 124,
     "metadata": {},
     "output_type": "execute_result"
    }
   ],
   "source": [
    "test[1]"
   ]
  },
  {
   "cell_type": "code",
   "execution_count": 125,
   "id": "9c69c1c6",
   "metadata": {},
   "outputs": [
    {
     "data": {
      "text/plain": [
       "'blue'"
      ]
     },
     "execution_count": 125,
     "metadata": {},
     "output_type": "execute_result"
    }
   ],
   "source": [
    "test[-1]"
   ]
  },
  {
   "cell_type": "code",
   "execution_count": 126,
   "id": "fe718599",
   "metadata": {},
   "outputs": [
    {
     "data": {
      "text/plain": [
       "'blue'"
      ]
     },
     "execution_count": 126,
     "metadata": {},
     "output_type": "execute_result"
    }
   ],
   "source": [
    "test[4]"
   ]
  },
  {
   "cell_type": "code",
   "execution_count": 129,
   "id": "d964666b",
   "metadata": {},
   "outputs": [
    {
     "data": {
      "text/plain": [
       "('blue', 'blue')"
      ]
     },
     "execution_count": 129,
     "metadata": {},
     "output_type": "execute_result"
    }
   ],
   "source": [
    "test[-1] , test[4]"
   ]
  },
  {
   "cell_type": "code",
   "execution_count": 131,
   "id": "1c20612c",
   "metadata": {},
   "outputs": [
    {
     "data": {
      "text/plain": [
       "['the', 'sky', 'is', 'very', 'blue']"
      ]
     },
     "execution_count": 131,
     "metadata": {},
     "output_type": "execute_result"
    }
   ],
   "source": [
    "test"
   ]
  },
  {
   "cell_type": "code",
   "execution_count": 132,
   "id": "823d9518",
   "metadata": {},
   "outputs": [
    {
     "data": {
      "text/plain": [
       "['the', 'sky', 'is']"
      ]
     },
     "execution_count": 132,
     "metadata": {},
     "output_type": "execute_result"
    }
   ],
   "source": [
    "#Breadknife\n",
    "\n",
    "test[0:3]"
   ]
  },
  {
   "cell_type": "code",
   "execution_count": 134,
   "id": "eb16eb8b",
   "metadata": {},
   "outputs": [
    {
     "data": {
      "text/plain": [
       "('D', 'a')"
      ]
     },
     "execution_count": 134,
     "metadata": {},
     "output_type": "execute_result"
    }
   ],
   "source": [
    "Name[0], Name[7]"
   ]
  },
  {
   "cell_type": "code",
   "execution_count": 135,
   "id": "48cdacee",
   "metadata": {},
   "outputs": [
    {
     "data": {
      "text/plain": [
       "['very', 'blue']"
      ]
     },
     "execution_count": 135,
     "metadata": {},
     "output_type": "execute_result"
    }
   ],
   "source": [
    "test[-2:]"
   ]
  },
  {
   "cell_type": "code",
   "execution_count": 136,
   "id": "d0927715",
   "metadata": {},
   "outputs": [],
   "source": [
    "sentence = 'slicing is used to obtain a sequence of element'"
   ]
  },
  {
   "cell_type": "code",
   "execution_count": 138,
   "id": "08c40594",
   "metadata": {},
   "outputs": [
    {
     "data": {
      "text/plain": [
       "' is used to obtain a sequence of element'"
      ]
     },
     "execution_count": 138,
     "metadata": {},
     "output_type": "execute_result"
    }
   ],
   "source": [
    "sentence[7:]"
   ]
  },
  {
   "cell_type": "code",
   "execution_count": 139,
   "id": "c427cf03",
   "metadata": {},
   "outputs": [],
   "source": [
    "sentence = sentence.split()"
   ]
  },
  {
   "cell_type": "code",
   "execution_count": 140,
   "id": "b0ea9326",
   "metadata": {},
   "outputs": [],
   "source": [
    "test.extend(sentence)"
   ]
  },
  {
   "cell_type": "code",
   "execution_count": 141,
   "id": "7ab12933",
   "metadata": {},
   "outputs": [
    {
     "data": {
      "text/plain": [
       "['the',\n",
       " 'sky',\n",
       " 'is',\n",
       " 'very',\n",
       " 'blue',\n",
       " 'slicing',\n",
       " 'is',\n",
       " 'used',\n",
       " 'to',\n",
       " 'obtain',\n",
       " 'a',\n",
       " 'sequence',\n",
       " 'of',\n",
       " 'element']"
      ]
     },
     "execution_count": 141,
     "metadata": {},
     "output_type": "execute_result"
    }
   ],
   "source": [
    "test"
   ]
  },
  {
   "cell_type": "code",
   "execution_count": 142,
   "id": "216a0604",
   "metadata": {},
   "outputs": [
    {
     "data": {
      "text/plain": [
       "['the', 'sky', 'is', 'very', 'blue', 'slicing']"
      ]
     },
     "execution_count": 142,
     "metadata": {},
     "output_type": "execute_result"
    }
   ],
   "source": [
    "test[0:6]"
   ]
  },
  {
   "cell_type": "code",
   "execution_count": 143,
   "id": "19b847cf",
   "metadata": {},
   "outputs": [
    {
     "data": {
      "text/plain": [
       "['the', 'sky', 'is', 'very', 'blue', 'slicing', 'is', 'used', 'to']"
      ]
     },
     "execution_count": 143,
     "metadata": {},
     "output_type": "execute_result"
    }
   ],
   "source": [
    "test[0:9]"
   ]
  },
  {
   "cell_type": "code",
   "execution_count": 145,
   "id": "2ae25ced",
   "metadata": {},
   "outputs": [
    {
     "data": {
      "text/plain": [
       "['the', 'very', 'is', 'obtain']"
      ]
     },
     "execution_count": 145,
     "metadata": {},
     "output_type": "execute_result"
    }
   ],
   "source": [
    "test[0: 10 :3]"
   ]
  },
  {
   "cell_type": "code",
   "execution_count": 146,
   "id": "a1beecc0",
   "metadata": {},
   "outputs": [
    {
     "data": {
      "text/plain": [
       "['the', 'is', 'blue', 'is', 'to', 'a', 'of']"
      ]
     },
     "execution_count": 146,
     "metadata": {},
     "output_type": "execute_result"
    }
   ],
   "source": [
    "test[0 : : 2]"
   ]
  },
  {
   "cell_type": "code",
   "execution_count": 147,
   "id": "d235fe86",
   "metadata": {},
   "outputs": [
    {
     "data": {
      "text/plain": [
       "{}"
      ]
     },
     "execution_count": 147,
     "metadata": {},
     "output_type": "execute_result"
    }
   ],
   "source": [
    "#Dictionary\n",
    "\n",
    "dict()"
   ]
  },
  {
   "cell_type": "code",
   "execution_count": 7,
   "id": "49d7394b",
   "metadata": {},
   "outputs": [],
   "source": [
    "dictionary = {'key' : 'value'}"
   ]
  },
  {
   "cell_type": "code",
   "execution_count": 8,
   "id": "0b3c8cb7",
   "metadata": {},
   "outputs": [],
   "source": [
    "bio = {'Name': 'Damilola', 'age': 28, 'gender': 'Male'}"
   ]
  },
  {
   "cell_type": "code",
   "execution_count": 9,
   "id": "a044c22e",
   "metadata": {},
   "outputs": [
    {
     "data": {
      "text/plain": [
       "('Damilola', 28)"
      ]
     },
     "execution_count": 9,
     "metadata": {},
     "output_type": "execute_result"
    }
   ],
   "source": [
    "bio['Name'], bio['age']"
   ]
  },
  {
   "cell_type": "code",
   "execution_count": 17,
   "id": "66c544a5",
   "metadata": {},
   "outputs": [
    {
     "data": {
      "text/plain": [
       "'value'"
      ]
     },
     "execution_count": 17,
     "metadata": {},
     "output_type": "execute_result"
    }
   ],
   "source": [
    "dictionary['key']"
   ]
  },
  {
   "cell_type": "code",
   "execution_count": 18,
   "id": "ba90d1b7",
   "metadata": {},
   "outputs": [
    {
     "data": {
      "text/plain": [
       "dict_keys(['Name', 'age', 'gender'])"
      ]
     },
     "execution_count": 18,
     "metadata": {},
     "output_type": "execute_result"
    }
   ],
   "source": [
    "bio.keys()"
   ]
  },
  {
   "cell_type": "code",
   "execution_count": 19,
   "id": "3248fd26",
   "metadata": {},
   "outputs": [
    {
     "data": {
      "text/plain": [
       "dict_items([('Name', 'Damilola'), ('age', 28), ('gender', 'Male')])"
      ]
     },
     "execution_count": 19,
     "metadata": {},
     "output_type": "execute_result"
    }
   ],
   "source": [
    "bio.items()"
   ]
  },
  {
   "cell_type": "code",
   "execution_count": 23,
   "id": "595c7263",
   "metadata": {},
   "outputs": [
    {
     "data": {
      "text/plain": [
       "dict_values(['Damilola', 28, 'Male'])"
      ]
     },
     "execution_count": 23,
     "metadata": {},
     "output_type": "execute_result"
    }
   ],
   "source": [
    "bio.values()"
   ]
  },
  {
   "cell_type": "code",
   "execution_count": 25,
   "id": "1446c672",
   "metadata": {},
   "outputs": [
    {
     "data": {
      "text/plain": [
       "()"
      ]
     },
     "execution_count": 25,
     "metadata": {},
     "output_type": "execute_result"
    }
   ],
   "source": [
    "#Tuple\n",
    "tuple()"
   ]
  },
  {
   "cell_type": "code",
   "execution_count": 40,
   "id": "99a10363",
   "metadata": {},
   "outputs": [],
   "source": [
    "test = ()"
   ]
  },
  {
   "cell_type": "code",
   "execution_count": 41,
   "id": "1e09fe40",
   "metadata": {},
   "outputs": [
    {
     "data": {
      "text/plain": [
       "tuple"
      ]
     },
     "execution_count": 41,
     "metadata": {},
     "output_type": "execute_result"
    }
   ],
   "source": [
    "type(test)"
   ]
  },
  {
   "cell_type": "code",
   "execution_count": 43,
   "id": "9af82c6d",
   "metadata": {},
   "outputs": [
    {
     "data": {
      "text/plain": [
       "set()"
      ]
     },
     "execution_count": 43,
     "metadata": {},
     "output_type": "execute_result"
    }
   ],
   "source": [
    "#set\n",
    "set()"
   ]
  },
  {
   "cell_type": "code",
   "execution_count": 44,
   "id": "8ecc442b",
   "metadata": {},
   "outputs": [],
   "source": [
    "test = set()"
   ]
  },
  {
   "cell_type": "code",
   "execution_count": 45,
   "id": "f5ae6f22",
   "metadata": {},
   "outputs": [
    {
     "data": {
      "text/plain": [
       "set"
      ]
     },
     "execution_count": 45,
     "metadata": {},
     "output_type": "execute_result"
    }
   ],
   "source": [
    "type(test)"
   ]
  },
  {
   "cell_type": "code",
   "execution_count": 48,
   "id": "240bc50d",
   "metadata": {},
   "outputs": [],
   "source": [
    " fruits = ['mango', 'orange', 'mango', 'orange', 'apple']"
   ]
  },
  {
   "cell_type": "code",
   "execution_count": 49,
   "id": "d0b86dae",
   "metadata": {},
   "outputs": [
    {
     "data": {
      "text/plain": [
       "{'apple', 'mango', 'orange'}"
      ]
     },
     "execution_count": 49,
     "metadata": {},
     "output_type": "execute_result"
    }
   ],
   "source": [
    "set(fruits)"
   ]
  },
  {
   "cell_type": "code",
   "execution_count": 54,
   "id": "009bf9ac",
   "metadata": {},
   "outputs": [],
   "source": [
    "test2 = {'mango', 'orange', 'mango', 'orange', 'apple'}\n"
   ]
  },
  {
   "cell_type": "code",
   "execution_count": 55,
   "id": "ab4c250e",
   "metadata": {},
   "outputs": [
    {
     "data": {
      "text/plain": [
       "set"
      ]
     },
     "execution_count": 55,
     "metadata": {},
     "output_type": "execute_result"
    }
   ],
   "source": [
    "type(test2)"
   ]
  },
  {
   "cell_type": "code",
   "execution_count": 56,
   "id": "e3690de3",
   "metadata": {},
   "outputs": [
    {
     "data": {
      "text/plain": [
       "{'apple', 'mango', 'orange'}"
      ]
     },
     "execution_count": 56,
     "metadata": {},
     "output_type": "execute_result"
    }
   ],
   "source": [
    "set(test2)"
   ]
  },
  {
   "cell_type": "code",
   "execution_count": 57,
   "id": "d6be8800",
   "metadata": {},
   "outputs": [
    {
     "data": {
      "text/plain": [
       "bool"
      ]
     },
     "execution_count": 57,
     "metadata": {},
     "output_type": "execute_result"
    }
   ],
   "source": [
    "#Boolean\n",
    "\n",
    "type(True)"
   ]
  },
  {
   "cell_type": "code",
   "execution_count": 58,
   "id": "8eead4b0",
   "metadata": {},
   "outputs": [
    {
     "data": {
      "text/plain": [
       "bool"
      ]
     },
     "execution_count": 58,
     "metadata": {},
     "output_type": "execute_result"
    }
   ],
   "source": [
    "type(False)"
   ]
  },
  {
   "cell_type": "code",
   "execution_count": 59,
   "id": "35abbb10",
   "metadata": {},
   "outputs": [],
   "source": [
    "yes = True"
   ]
  },
  {
   "cell_type": "code",
   "execution_count": 60,
   "id": "49bd0f91",
   "metadata": {},
   "outputs": [
    {
     "data": {
      "text/plain": [
       "bool"
      ]
     },
     "execution_count": 60,
     "metadata": {},
     "output_type": "execute_result"
    }
   ],
   "source": [
    "type(yes)"
   ]
  },
  {
   "cell_type": "code",
   "execution_count": null,
   "id": "6a1b0d4c",
   "metadata": {},
   "outputs": [],
   "source": []
  }
 ],
 "metadata": {
  "kernelspec": {
   "display_name": "Python 3 (ipykernel)",
   "language": "python",
   "name": "python3"
  },
  "language_info": {
   "codemirror_mode": {
    "name": "ipython",
    "version": 3
   },
   "file_extension": ".py",
   "mimetype": "text/x-python",
   "name": "python",
   "nbconvert_exporter": "python",
   "pygments_lexer": "ipython3",
   "version": "3.9.12"
  }
 },
 "nbformat": 4,
 "nbformat_minor": 5
}
